{
 "cells": [
  {
   "cell_type": "code",
   "execution_count": 3,
   "id": "689d3a59",
   "metadata": {},
   "outputs": [],
   "source": [
    "import numpy as np\n",
    "import scipy.stats as stats"
   ]
  },
  {
   "cell_type": "code",
   "execution_count": 1,
   "id": "13ae64e3",
   "metadata": {},
   "outputs": [
    {
     "name": "stdout",
     "output_type": "stream",
     "text": [
      "standard error : 0.07273238618387272\n",
      "z score : 6.874516652539955\n",
      "critical value of z @ 5% level: -1.6448536269514729\n",
      "Reject null hypothesis\n",
      "The average time that working mothers spend talking to their children is less than 11 minutes per day\n"
     ]
    }
   ],
   "source": [
    "# Suppose a child psychologist says that the average time that working mothers spend talking to their children is at-least \n",
    "#11 minutes per day. You want to test You conduct a random sample of 1000 working mothers and find they spend an average of 11.5\n",
    "#minutes per day talking with their children. Assume prior research suggests the population standard deviation is 2.3 minutes.\n",
    "#Conduct test with a level of significance of alpha=0.05.\n",
    "\n",
    "μ=11            #population_mean\n",
    "xbar=11.5       #sample_mean\n",
    "sigma=2.3       #Population_std\n",
    "n=1000          #sample_size\n",
    "alpha=0.05      #level of significance\n",
    "# standard error\n",
    "standard_error=(sigma/(np.sqrt(n)))\n",
    "print(\"Standard error :\",standard_error)\n",
    "\n",
    "# Test statistic\n",
    "z_test=(xbar-μ)/standard_error\n",
    "print(\"z-score :\" ,z_test)\n",
    "\n",
    "# Calculate critical value:\n",
    "# from  H0 & H1 clear that,it is left tail test.\n",
    "z_critical=stats.norm.ppf(alpha)\n",
    "print(\"Critical value of z @ 5% level:\",z_critical)\n",
    "\n",
    "if z_test>z_critical:\n",
    "    print(\"Reject null hypothesis\")\n",
    "    print(\"The average time that working mothers spend talking to their children is less than 11 minutes per day\")\n",
    "else:\n",
    "    print(\"Accept null hypothesis\")\n",
    "    print(\"The average time that working mothers spend talking to their children is at-least 11 minutes per day\")"
   ]
  },
  {
   "cell_type": "code",
   "execution_count": 2,
   "id": "ee589bcc",
   "metadata": {},
   "outputs": [
    {
     "name": "stdout",
     "output_type": "stream",
     "text": [
      "standard error : 0.12649110640673517\n",
      "z score : -3.162277660168382\n",
      "critical value of z @ 5% level: 1.6448536269514722\n",
      "Accept null hypothesis\n",
      "There is  enough evidence to support the coffee shop's claim.\n"
     ]
    }
   ],
   "source": [
    "# A coffee shop claims that their average wait time for customers is less than 5 minutes. To test this claim, a sample of 40 customers is taken, and their wait times are recorded. \n",
    "# The sample mean wait time is found to be 4.6 minutes with a standard deviation of 0.8 minutes. Perform a hypothesis test at a \n",
    "# significance level of 0.05 and determine whether there is enough evidence to support the coffee shop's claim.\n",
    "# Perform the hypothesis testing using correct test statistics and appropriate critical value\n",
    "\n",
    "μ=5             #population_mean\n",
    "xbar=4.6        #sample_mean\n",
    "s=0.8           #sample_std\n",
    "n=40            #sample_size\n",
    "alpha=0.05      #level of significance\n",
    "\n",
    "# standard error\n",
    "standard_error=(s/(np.sqrt(n)))\n",
    "print(\"Standard error :\",standard_error)\n",
    "\n",
    "# Test statistic\n",
    "z_test=(xbar-μ)/standard_error\n",
    "print(\"z-score :\" ,z_test)\n",
    "\n",
    "# Calculate critical value\n",
    "# from  H0 & H1 clear that,it is right tail test.\n",
    "z_critical=stats.norm.ppf(1-alpha)\n",
    "print(\"Critical value of z @ 5% level:\",z_critical)\n",
    "\n",
    "if z_test>z_critical:\n",
    "    print(\"Reject null hypothesis\")\n",
    "    print(\"There is no enough evidence to support the coffee shop's claim.\")\n",
    "else:\n",
    "    print(\"Accept null hypothesis\")\n",
    "    print(\"There is  enough evidence to support the coffee shop's claim.\")\n"
   ]
  },
  {
   "cell_type": "code",
   "execution_count": null,
   "id": "f4d44ae6",
   "metadata": {},
   "outputs": [],
   "source": []
  }
 ],
 "metadata": {
  "kernelspec": {
   "display_name": "Python 3 (ipykernel)",
   "language": "python",
   "name": "python3"
  },
  "language_info": {
   "codemirror_mode": {
    "name": "ipython",
    "version": 3
   },
   "file_extension": ".py",
   "mimetype": "text/x-python",
   "name": "python",
   "nbconvert_exporter": "python",
   "pygments_lexer": "ipython3",
   "version": "3.11.4"
  }
 },
 "nbformat": 4,
 "nbformat_minor": 5
}
